{
 "cells": [
  {
   "cell_type": "code",
   "execution_count": 1,
   "id": "91f2c9d4",
   "metadata": {},
   "outputs": [],
   "source": [
    "from icalendar import Calendar, Event\n",
    "from datetime import datetime\n",
    "from pytz import UTC # timezone\n",
    "import pandas as pd\n",
    "\n",
    "SettingWithCopyWarning = None"
   ]
  },
  {
   "cell_type": "code",
   "execution_count": 2,
   "id": "58f64434",
   "metadata": {},
   "outputs": [],
   "source": [
    "g = open('1111.ics','rb')\n",
    "gcal = Calendar.from_ical(g.read())\n",
    "g.close()"
   ]
  },
  {
   "cell_type": "code",
   "execution_count": 3,
   "id": "6284f5f6",
   "metadata": {},
   "outputs": [],
   "source": [
    "import recurring_ical_events\n",
    "events = [dict(event) for event in recurring_ical_events.of(gcal).all()]"
   ]
  },
  {
   "cell_type": "code",
   "execution_count": 4,
   "id": "0f399807",
   "metadata": {},
   "outputs": [],
   "source": [
    "df = pd.DataFrame(events)"
   ]
  },
  {
   "cell_type": "code",
   "execution_count": 5,
   "id": "ce6b93d2",
   "metadata": {},
   "outputs": [],
   "source": [
    "def to_date(x):\n",
    "    return x.dt.strftime('%Y-%m-%d-%H:%M')"
   ]
  },
  {
   "cell_type": "code",
   "execution_count": 6,
   "id": "fbba3d3b",
   "metadata": {},
   "outputs": [],
   "source": [
    "df['DTSTART'] = df['DTSTART'].apply(to_date)\n",
    "df['DTEND'] = df['DTEND'].apply(to_date)"
   ]
  },
  {
   "cell_type": "code",
   "execution_count": 7,
   "id": "b935f7c6",
   "metadata": {},
   "outputs": [],
   "source": [
    "df = df[(df['DTSTART'] >= '2022-09-01') & (df['DTSTART'] < '2022-10-01')]"
   ]
  },
  {
   "cell_type": "code",
   "execution_count": 8,
   "id": "c905e1ea",
   "metadata": {},
   "outputs": [],
   "source": [
    "df = df[['SUMMARY', 'DESCRIPTION', 'DTSTART', 'DTEND']]"
   ]
  },
  {
   "cell_type": "code",
   "execution_count": 9,
   "id": "1f3f491b",
   "metadata": {},
   "outputs": [],
   "source": [
    "df['DTEND'] = pd.to_datetime(df['DTEND'])\n",
    "df['DTSTART'] = pd.to_datetime(df['DTSTART'])"
   ]
  },
  {
   "cell_type": "code",
   "execution_count": 10,
   "id": "c42b2639",
   "metadata": {},
   "outputs": [],
   "source": [
    "df['DURATION'] = (df['DTEND'] - df['DTSTART']).apply(pd.Timedelta.total_seconds)/3600"
   ]
  },
  {
   "cell_type": "code",
   "execution_count": 14,
   "id": "af697575",
   "metadata": {},
   "outputs": [
    {
     "data": {
      "text/html": [
       "<div>\n",
       "<style scoped>\n",
       "    .dataframe tbody tr th:only-of-type {\n",
       "        vertical-align: middle;\n",
       "    }\n",
       "\n",
       "    .dataframe tbody tr th {\n",
       "        vertical-align: top;\n",
       "    }\n",
       "\n",
       "    .dataframe thead th {\n",
       "        text-align: right;\n",
       "    }\n",
       "</style>\n",
       "<table border=\"1\" class=\"dataframe\">\n",
       "  <thead>\n",
       "    <tr style=\"text-align: right;\">\n",
       "      <th></th>\n",
       "      <th>SUMMARY</th>\n",
       "      <th>DESCRIPTION</th>\n",
       "      <th>DTSTART</th>\n",
       "      <th>DTEND</th>\n",
       "      <th>DURATION</th>\n",
       "    </tr>\n",
       "  </thead>\n",
       "  <tbody>\n",
       "    <tr>\n",
       "      <th>1356</th>\n",
       "      <td>Rusnė 9kl.(p)</td>\n",
       "      <td></td>\n",
       "      <td>2022-09-04 12:15:00</td>\n",
       "      <td>2022-09-04 13:45:00</td>\n",
       "      <td>1.5</td>\n",
       "    </tr>\n",
       "    <tr>\n",
       "      <th>1357</th>\n",
       "      <td>Rusnė 9kl. (p)</td>\n",
       "      <td></td>\n",
       "      <td>2022-09-11 12:10:00</td>\n",
       "      <td>2022-09-11 13:40:00</td>\n",
       "      <td>1.5</td>\n",
       "    </tr>\n",
       "    <tr>\n",
       "      <th>1358</th>\n",
       "      <td>Rusnė 9kl. (p)</td>\n",
       "      <td></td>\n",
       "      <td>2022-09-18 12:10:00</td>\n",
       "      <td>2022-09-18 13:40:00</td>\n",
       "      <td>1.5</td>\n",
       "    </tr>\n",
       "    <tr>\n",
       "      <th>1359</th>\n",
       "      <td>Rusnė 9kl. (p)</td>\n",
       "      <td></td>\n",
       "      <td>2022-09-25 12:10:00</td>\n",
       "      <td>2022-09-25 13:40:00</td>\n",
       "      <td>1.5</td>\n",
       "    </tr>\n",
       "    <tr>\n",
       "      <th>10957</th>\n",
       "      <td>Gintė 7kl. (p)</td>\n",
       "      <td>&lt;a href=\"https://www.facebook.com/ginte.lukosi...</td>\n",
       "      <td>2022-09-05 19:35:00</td>\n",
       "      <td>2022-09-05 20:35:00</td>\n",
       "      <td>1.0</td>\n",
       "    </tr>\n",
       "    <tr>\n",
       "      <th>10958</th>\n",
       "      <td>Gintė 7kl. (p)</td>\n",
       "      <td>&lt;a href=\"https://www.facebook.com/ginte.lukosi...</td>\n",
       "      <td>2022-09-12 19:35:00</td>\n",
       "      <td>2022-09-12 20:35:00</td>\n",
       "      <td>1.0</td>\n",
       "    </tr>\n",
       "    <tr>\n",
       "      <th>10959</th>\n",
       "      <td>Gintė 7kl. (p)</td>\n",
       "      <td>&lt;a href=\"https://www.facebook.com/ginte.lukosi...</td>\n",
       "      <td>2022-09-26 19:35:00</td>\n",
       "      <td>2022-09-26 20:35:00</td>\n",
       "      <td>1.0</td>\n",
       "    </tr>\n",
       "    <tr>\n",
       "      <th>14153</th>\n",
       "      <td>Gabija 12kl. (p)</td>\n",
       "      <td>&lt;a href=\"https://www.facebook.com/profile.php?...</td>\n",
       "      <td>2022-09-11 13:45:00</td>\n",
       "      <td>2022-09-11 14:45:00</td>\n",
       "      <td>1.0</td>\n",
       "    </tr>\n",
       "    <tr>\n",
       "      <th>14154</th>\n",
       "      <td>Gabija 12kl. (p)</td>\n",
       "      <td>&lt;a href=\"https://www.facebook.com/profile.php?...</td>\n",
       "      <td>2022-09-18 13:45:00</td>\n",
       "      <td>2022-09-18 14:45:00</td>\n",
       "      <td>1.0</td>\n",
       "    </tr>\n",
       "    <tr>\n",
       "      <th>14155</th>\n",
       "      <td>Gabija 12kl. (p)</td>\n",
       "      <td>&lt;a href=\"https://www.facebook.com/profile.php?...</td>\n",
       "      <td>2022-09-25 13:45:00</td>\n",
       "      <td>2022-09-25 14:45:00</td>\n",
       "      <td>1.0</td>\n",
       "    </tr>\n",
       "    <tr>\n",
       "      <th>18144</th>\n",
       "      <td>Ieva 7kl. (p)</td>\n",
       "      <td></td>\n",
       "      <td>2022-09-08 16:40:00</td>\n",
       "      <td>2022-09-08 17:40:00</td>\n",
       "      <td>1.0</td>\n",
       "    </tr>\n",
       "    <tr>\n",
       "      <th>18145</th>\n",
       "      <td>Gabrielius 9kl. (p)</td>\n",
       "      <td></td>\n",
       "      <td>2022-09-22 16:40:00</td>\n",
       "      <td>2022-09-22 17:40:00</td>\n",
       "      <td>1.0</td>\n",
       "    </tr>\n",
       "    <tr>\n",
       "      <th>18146</th>\n",
       "      <td>Gabrielius 9kl. (p)</td>\n",
       "      <td></td>\n",
       "      <td>2022-09-29 16:40:00</td>\n",
       "      <td>2022-09-29 17:40:00</td>\n",
       "      <td>1.0</td>\n",
       "    </tr>\n",
       "    <tr>\n",
       "      <th>18943</th>\n",
       "      <td>Gabrielius 9kl. (p)</td>\n",
       "      <td></td>\n",
       "      <td>2022-09-07 18:35:00</td>\n",
       "      <td>2022-09-07 19:35:00</td>\n",
       "      <td>1.0</td>\n",
       "    </tr>\n",
       "    <tr>\n",
       "      <th>24546</th>\n",
       "      <td>Gabrielius 9kl. (p)</td>\n",
       "      <td></td>\n",
       "      <td>2022-09-19 19:35:00</td>\n",
       "      <td>2022-09-19 20:35:00</td>\n",
       "      <td>1.0</td>\n",
       "    </tr>\n",
       "  </tbody>\n",
       "</table>\n",
       "</div>"
      ],
      "text/plain": [
       "                   SUMMARY                                        DESCRIPTION  \\\n",
       "1356         Rusnė 9kl.(p)                                                      \n",
       "1357        Rusnė 9kl. (p)                                                      \n",
       "1358        Rusnė 9kl. (p)                                                      \n",
       "1359        Rusnė 9kl. (p)                                                      \n",
       "10957       Gintė 7kl. (p)  <a href=\"https://www.facebook.com/ginte.lukosi...   \n",
       "10958       Gintė 7kl. (p)  <a href=\"https://www.facebook.com/ginte.lukosi...   \n",
       "10959       Gintė 7kl. (p)  <a href=\"https://www.facebook.com/ginte.lukosi...   \n",
       "14153     Gabija 12kl. (p)  <a href=\"https://www.facebook.com/profile.php?...   \n",
       "14154     Gabija 12kl. (p)  <a href=\"https://www.facebook.com/profile.php?...   \n",
       "14155     Gabija 12kl. (p)  <a href=\"https://www.facebook.com/profile.php?...   \n",
       "18144        Ieva 7kl. (p)                                                      \n",
       "18145  Gabrielius 9kl. (p)                                                      \n",
       "18146  Gabrielius 9kl. (p)                                                      \n",
       "18943  Gabrielius 9kl. (p)                                                      \n",
       "24546  Gabrielius 9kl. (p)                                                      \n",
       "\n",
       "                  DTSTART               DTEND  DURATION  \n",
       "1356  2022-09-04 12:15:00 2022-09-04 13:45:00       1.5  \n",
       "1357  2022-09-11 12:10:00 2022-09-11 13:40:00       1.5  \n",
       "1358  2022-09-18 12:10:00 2022-09-18 13:40:00       1.5  \n",
       "1359  2022-09-25 12:10:00 2022-09-25 13:40:00       1.5  \n",
       "10957 2022-09-05 19:35:00 2022-09-05 20:35:00       1.0  \n",
       "10958 2022-09-12 19:35:00 2022-09-12 20:35:00       1.0  \n",
       "10959 2022-09-26 19:35:00 2022-09-26 20:35:00       1.0  \n",
       "14153 2022-09-11 13:45:00 2022-09-11 14:45:00       1.0  \n",
       "14154 2022-09-18 13:45:00 2022-09-18 14:45:00       1.0  \n",
       "14155 2022-09-25 13:45:00 2022-09-25 14:45:00       1.0  \n",
       "18144 2022-09-08 16:40:00 2022-09-08 17:40:00       1.0  \n",
       "18145 2022-09-22 16:40:00 2022-09-22 17:40:00       1.0  \n",
       "18146 2022-09-29 16:40:00 2022-09-29 17:40:00       1.0  \n",
       "18943 2022-09-07 18:35:00 2022-09-07 19:35:00       1.0  \n",
       "24546 2022-09-19 19:35:00 2022-09-19 20:35:00       1.0  "
      ]
     },
     "execution_count": 14,
     "metadata": {},
     "output_type": "execute_result"
    }
   ],
   "source": [
    "df[df['SUMMARY'].apply(lambda x: '(p)' in x)]"
   ]
  },
  {
   "cell_type": "code",
   "execution_count": 37,
   "id": "db3ac83c",
   "metadata": {},
   "outputs": [],
   "source": [
    "from openpyxl import load_workbook"
   ]
  },
  {
   "cell_type": "code",
   "execution_count": 39,
   "id": "50d2867c",
   "metadata": {},
   "outputs": [],
   "source": [
    "#load excel file\n",
    "workbook = load_workbook(filename=\"sablonas.xlsx\")\n",
    " \n",
    "#open workbook\n",
    "sheet = workbook.active\n",
    " \n",
    "#modify the desired cell\n",
    "sheet[\"A1\"] = \"Full Name\"\n",
    " \n",
    "#save the file\n",
    "workbook.save(filename=\"output.xlsx\")"
   ]
  },
  {
   "cell_type": "code",
   "execution_count": 41,
   "id": "e64301da",
   "metadata": {},
   "outputs": [],
   "source": [
    "import win32com.client\n",
    "\n",
    "o = win32com.client.Dispatch(\"Excel.Application\")\n",
    "\n",
    "o.Visible = False\n",
    "\n",
    "wb_path = r'C:/Users/mariu/Desktop/tutor-invoice-generator/sablonas.xlsx'\n",
    "\n",
    "wb = o.Workbooks.Open(wb_path)\n",
    "\n",
    "\n",
    "\n",
    "ws_index_list = [1] #say you want to print these sheets\n",
    "\n",
    "path_to_pdf = r'C:/Users/mariu/Desktop/tutor-invoice-generator/sample.pdf'\n",
    "\n",
    "\n",
    "\n",
    "wb.WorkSheets(ws_index_list).Select()\n",
    "\n",
    "wb.ActiveSheet.ExportAsFixedFormat(0, path_to_pdf)"
   ]
  },
  {
   "cell_type": "code",
   "execution_count": 46,
   "id": "6d0c6cdc",
   "metadata": {},
   "outputs": [],
   "source": [
    "import os\n",
    "from email.message import EmailMessage\n",
    "import ssl\n",
    "import smtplib"
   ]
  },
  {
   "cell_type": "code",
   "execution_count": 54,
   "id": "02c40949",
   "metadata": {},
   "outputs": [],
   "source": [
    "import win32com.client as win32\n",
    "\n",
    "olApp = win32.Dispatch('Outlook.Application')\n",
    "olNS = olApp.GetNameSpace('MAPI')\n",
    "\n",
    "# construct email item object\n",
    "mailItem = olApp.CreateItem(0)\n",
    "mailItem.Subject = 'Hello 123'\n",
    "mailItem.BodyFormat = 1\n",
    "mailItem.Body = 'Hello There'\n",
    "mailItem.To = 'marius.arlauskas01@gmail.com'\n",
    "mailItem.Sensitivity  = 2\n",
    "# optional (account you want to use to send the email)\n",
    "mailItem._oleobj_.Invoke(*(64209, 0, 8, 0, olNS.Accounts.Item('marius.arlauskas01.spam@gmail.com')))\n",
    "mailItem.Display()\n",
    "mailItem.Save()\n",
    "mailItem.Send()"
   ]
  },
  {
   "cell_type": "code",
   "execution_count": 56,
   "id": "ac38edef",
   "metadata": {},
   "outputs": [
    {
     "data": {
      "text/plain": [
       "'import win32com.client\\nfrom win32com.client import Dispatch, constants\\nconst=win32com.client.constants\\n\\nolMailItem = 0x0\\nobj = win32com.client.Dispatch(\"Outlook.Application\")\\nnewMail = obj.CreateItem(olMailItem)\\nnewMail.Subject = \"I AM SUBJECT!!\"\\n\\nnewMail.To = \"abc@abc.com\"\\nattachment1 = \"x:\\\\report.htm\"\\n\\nwith open(attachment1 , \\'r\\') as myfile:\\n   data=myfile.read()\\n\\nnewMail.Body = \"Please Find the Report here \" + data\\n\\nnewMail.HTMLBody = \"I AM IN THE BODY\\nSO AM I!!!\" + data\\nnewMail.Attachments.Add(Source=attachment1)\\nnewMail.display()\\nnewMail.Send()'"
      ]
     },
     "execution_count": 56,
     "metadata": {},
     "output_type": "execute_result"
    }
   ],
   "source": [
    "\"\"\"import win32com.client\n",
    "from win32com.client import Dispatch, constants\n",
    "const=win32com.client.constants\n",
    "\n",
    "olMailItem = 0x0\n",
    "obj = win32com.client.Dispatch(\"Outlook.Application\")\n",
    "newMail = obj.CreateItem(olMailItem)\n",
    "newMail.Subject = \"I AM SUBJECT!!\"\n",
    "\n",
    "newMail.To = \"abc@abc.com\"\n",
    "attachment1 = \"x:\\\\report.htm\"\n",
    "\n",
    "with open(attachment1 , 'r') as myfile:\n",
    "   data=myfile.read()\n",
    "\n",
    "newMail.Body = \"Please Find the Report here \" + data\n",
    "\n",
    "newMail.HTMLBody = \"I AM IN THE BODY\\nSO AM I!!!\" + data\n",
    "newMail.Attachments.Add(Source=attachment1)\n",
    "newMail.display()\n",
    "newMail.Send()\"\"\""
   ]
  },
  {
   "cell_type": "code",
   "execution_count": null,
   "id": "c3e3cf9d",
   "metadata": {},
   "outputs": [],
   "source": []
  }
 ],
 "metadata": {
  "kernelspec": {
   "display_name": "Python 3 (ipykernel)",
   "language": "python",
   "name": "python3"
  },
  "language_info": {
   "codemirror_mode": {
    "name": "ipython",
    "version": 3
   },
   "file_extension": ".py",
   "mimetype": "text/x-python",
   "name": "python",
   "nbconvert_exporter": "python",
   "pygments_lexer": "ipython3",
   "version": "3.9.12"
  }
 },
 "nbformat": 4,
 "nbformat_minor": 5
}
