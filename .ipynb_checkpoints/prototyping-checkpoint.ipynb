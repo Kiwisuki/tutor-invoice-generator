{
 "cells": [
  {
   "cell_type": "code",
   "execution_count": 19,
   "id": "91f2c9d4",
   "metadata": {},
   "outputs": [],
   "source": [
    "from icalendar import Calendar, Event\n",
    "from datetime import datetime\n",
    "from pytz import UTC # timezone\n",
    "import pandas as pd\n",
    "from openpyxl import load_workbook\n",
    "import recurring_ical_events\n",
    "datetime.today().strftime('%Y-%m-%d')\n",
    "import random\n",
    "from datetime import date\n",
    "import datetime\n",
    "import win32com.client\n",
    "import win32com.client as win32\n",
    "import datetime\n",
    "import os\n",
    "SettingWithCopyWarning = None\n",
    "TODAY = date.today().strftime('%Y-%m-%d')\n",
    "TEMPLATE_PATH = f'C:/Users/mariu/Desktop/tutor-invoice-generator/sablonas.xlsx'\n",
    "TEMPORARY_PATH =  f'C:/Users/mariu/Desktop/tutor-invoice-generator/temporary.xlsx'"
   ]
  },
  {
   "cell_type": "code",
   "execution_count": 2,
   "id": "58f64434",
   "metadata": {},
   "outputs": [],
   "source": [
    "with open('calendar.ics','rb') as g:\n",
    "    gcal = Calendar.from_ical(g.read())"
   ]
  },
  {
   "cell_type": "code",
   "execution_count": 3,
   "id": "6284f5f6",
   "metadata": {},
   "outputs": [],
   "source": [
    "events = [dict(event) for event in recurring_ical_events.of(gcal).all()]"
   ]
  },
  {
   "cell_type": "code",
   "execution_count": 4,
   "id": "0f399807",
   "metadata": {},
   "outputs": [],
   "source": [
    "df = pd.DataFrame(events)"
   ]
  },
  {
   "cell_type": "code",
   "execution_count": 5,
   "id": "ce6b93d2",
   "metadata": {},
   "outputs": [],
   "source": [
    "def to_date(x):\n",
    "    return x.dt.strftime('%Y-%m-%d-%H:%M')"
   ]
  },
  {
   "cell_type": "code",
   "execution_count": 6,
   "id": "fbba3d3b",
   "metadata": {},
   "outputs": [],
   "source": [
    "df['DTSTART'] = df['DTSTART'].apply(to_date)\n",
    "df['DTEND'] = df['DTEND'].apply(to_date)"
   ]
  },
  {
   "cell_type": "code",
   "execution_count": 7,
   "id": "b935f7c6",
   "metadata": {},
   "outputs": [],
   "source": [
    "df = df[(df['DTSTART'] >= '2022-09-01') & (df['DTSTART'] < '2022-10-01')]"
   ]
  },
  {
   "cell_type": "code",
   "execution_count": 8,
   "id": "c905e1ea",
   "metadata": {},
   "outputs": [],
   "source": [
    "df = df[['SUMMARY', 'DESCRIPTION', 'DTSTART', 'DTEND']]"
   ]
  },
  {
   "cell_type": "code",
   "execution_count": 9,
   "id": "1f3f491b",
   "metadata": {},
   "outputs": [],
   "source": [
    "df['DTEND'] = pd.to_datetime(df['DTEND'])\n",
    "df['DTSTART'] = pd.to_datetime(df['DTSTART'])"
   ]
  },
  {
   "cell_type": "code",
   "execution_count": 10,
   "id": "c42b2639",
   "metadata": {},
   "outputs": [],
   "source": [
    "df['DURATION'] = (df['DTEND'] - df['DTSTART']).apply(pd.Timedelta.total_seconds)/3600"
   ]
  },
  {
   "cell_type": "code",
   "execution_count": 11,
   "id": "af697575",
   "metadata": {},
   "outputs": [],
   "source": [
    "df = df[df['SUMMARY'].apply(lambda x: '(p)' in x)]"
   ]
  },
  {
   "cell_type": "code",
   "execution_count": 12,
   "id": "d2318ca7",
   "metadata": {},
   "outputs": [],
   "source": [
    "def get_last_month():\n",
    "    today = datetime.date.today()\n",
    "    first = today.replace(day=1)\n",
    "    last_month = first - datetime.timedelta(days=1)\n",
    "    return last_month.strftime(\"%Y/%m\")"
   ]
  },
  {
   "cell_type": "code",
   "execution_count": 23,
   "id": "50d2867c",
   "metadata": {},
   "outputs": [],
   "source": [
    "def prep_invoice(client_name, client_email, amount, rate=17):\n",
    "    #load excel file\n",
    "    workbook = load_workbook(filename=TEMPLATE_PATH)\n",
    "    #open workbook\n",
    "    sheet = workbook.active\n",
    " \n",
    "    #modify the desired cell\n",
    "    sheet['D3'] = f'Serija {date.today().strftime(\"%Y\")} Nr. {random.randint(1000,10000)}'\n",
    "    sheet[\"E6\"] = date.today().strftime('%Y-%m-%d')\n",
    "    sheet[\"B21\"] = client_name\n",
    "    sheet[\"B22\"] = client_email\n",
    "    sheet[\"B29\"] = f'Korepetitoriaus paslaugos ({amount} val.)'\n",
    "    sheet[\"D29\"] = get_last_month()\n",
    "    sheet['F29'] = amount * rate\n",
    "    sheet['F31'] = amount * rate\n",
    "    sheet['D42'] = client_name\n",
    "\n",
    "    \n",
    "    try:\n",
    "        os.remove(TEMPORARY_PATH)\n",
    "    except OSError:\n",
    "        pass\n",
    "    #save the file\n",
    "    workbook.save(filename=TEMPORARY_PATH)\n",
    "    workbook.close()"
   ]
  },
  {
   "cell_type": "code",
   "execution_count": 24,
   "id": "e64301da",
   "metadata": {},
   "outputs": [],
   "source": [
    "def print_pdf(pdf_name):\n",
    "    o = win32com.client.Dispatch(\"Excel.Application\")\n",
    "    o.Visible = False\n",
    "    wb = o.Workbooks.Open(TEMPORARY_PATH)\n",
    "    ws_index_list = [1] #say you want to print these sheets\n",
    "    path_to_pdf = f'C:/Users/mariu/Desktop/tutor-invoice-generator/invoices/{pdf_name}.pdf'\n",
    "    wb.WorkSheets(ws_index_list).Select()\n",
    "    wb.ActiveSheet.ExportAsFixedFormat(0, path_to_pdf)\n",
    "    wb.Close()\n",
    "    return path_to_pdf"
   ]
  },
  {
   "cell_type": "code",
   "execution_count": 25,
   "id": "02c40949",
   "metadata": {},
   "outputs": [],
   "source": [
    "def send_invoice(client_email, path_to_pdf):\n",
    "    olApp = win32.Dispatch('Outlook.Application')\n",
    "    olNS = olApp.GetNameSpace('MAPI')\n",
    "    # construct email item object\n",
    "    mailItem = olApp.CreateItem(0)\n",
    "    mailItem.Subject = 'Sąskaita už korepetitoriaus paslaugas'\n",
    "    mailItem.BodyFormat = 1\n",
    "    mailItem.Body = f'''\n",
    "    Sveiki,\n",
    "\n",
    "    Prisegu sąskaitą faktūrą už praeitą mėnėsį teiktas korepetitoriaus paslaugas.\n",
    "\n",
    "    Pagarbiai,\n",
    "     Marius Arlauskas\n",
    "\n",
    "    *** Dėmėsio ši sąskaita buvo sugeneruota automatiškai, patikrinkite ar nėra neatitikčių.\n",
    "    *** Kilus problemai rašykite marius.arlauskas01@gmail.com\n",
    "    '''\n",
    "    mailItem.To = client_email\n",
    "    mailItem.Sensitivity  = 2\n",
    "    mailItem.Attachments.Add(Source=path_to_pdf)\n",
    "    mailItem._oleobj_.Invoke(*(64209, 0, 8, 0, olNS.Accounts.Item('marius.arlauskas01.spam@gmail.com')))\n",
    "    mailItem.Display()\n",
    "    mailItem.Save()\n",
    "    mailItem.Send()"
   ]
  },
  {
   "cell_type": "code",
   "execution_count": 26,
   "id": "c3e3cf9d",
   "metadata": {},
   "outputs": [],
   "source": [
    "def handle_invoice(client_name, client_email, amount, charge=17):\n",
    "    prep_invoice(client_name, client_email, amount, charge)\n",
    "    path_to_pdf = print_pdf(f'{client_email}_{TODAY}')\n",
    "    send_invoice(client_email, path_to_pdf)"
   ]
  },
  {
   "cell_type": "code",
   "execution_count": 27,
   "id": "125b7a6e",
   "metadata": {},
   "outputs": [
    {
     "data": {
      "text/html": [
       "<div>\n",
       "<style scoped>\n",
       "    .dataframe tbody tr th:only-of-type {\n",
       "        vertical-align: middle;\n",
       "    }\n",
       "\n",
       "    .dataframe tbody tr th {\n",
       "        vertical-align: top;\n",
       "    }\n",
       "\n",
       "    .dataframe thead th {\n",
       "        text-align: right;\n",
       "    }\n",
       "</style>\n",
       "<table border=\"1\" class=\"dataframe\">\n",
       "  <thead>\n",
       "    <tr style=\"text-align: right;\">\n",
       "      <th></th>\n",
       "      <th>DURATION</th>\n",
       "    </tr>\n",
       "    <tr>\n",
       "      <th>SUMMARY</th>\n",
       "      <th></th>\n",
       "    </tr>\n",
       "  </thead>\n",
       "  <tbody>\n",
       "    <tr>\n",
       "      <th>Gabija 12kl. (p)</th>\n",
       "      <td>3.0</td>\n",
       "    </tr>\n",
       "    <tr>\n",
       "      <th>Gabrielius 9kl. (p)</th>\n",
       "      <td>4.0</td>\n",
       "    </tr>\n",
       "    <tr>\n",
       "      <th>Gintė 7kl. (p)</th>\n",
       "      <td>3.0</td>\n",
       "    </tr>\n",
       "    <tr>\n",
       "      <th>Ieva 7kl. (p)</th>\n",
       "      <td>1.0</td>\n",
       "    </tr>\n",
       "    <tr>\n",
       "      <th>Rusnė 9kl. (p)</th>\n",
       "      <td>4.5</td>\n",
       "    </tr>\n",
       "    <tr>\n",
       "      <th>Rusnė 9kl.(p)</th>\n",
       "      <td>1.5</td>\n",
       "    </tr>\n",
       "  </tbody>\n",
       "</table>\n",
       "</div>"
      ],
      "text/plain": [
       "                     DURATION\n",
       "SUMMARY                      \n",
       "Gabija 12kl. (p)          3.0\n",
       "Gabrielius 9kl. (p)       4.0\n",
       "Gintė 7kl. (p)            3.0\n",
       "Ieva 7kl. (p)             1.0\n",
       "Rusnė 9kl. (p)            4.5\n",
       "Rusnė 9kl.(p)             1.5"
      ]
     },
     "execution_count": 27,
     "metadata": {},
     "output_type": "execute_result"
    }
   ],
   "source": [
    "df.groupby('SUMMARY').sum()"
   ]
  },
  {
   "cell_type": "code",
   "execution_count": 28,
   "id": "33bcdb68",
   "metadata": {},
   "outputs": [],
   "source": [
    "clients = {\n",
    "    'Gabrielius 9kl. (p)': {\n",
    "        'client_name' : 'Gabrielius Pūkys',\n",
    "        'client_email': 'svietlanele@gmail.com',\n",
    "        'charge': 17\n",
    "    },\n",
    "    'Dominykas 10kl. (p)': {\n",
    "        'client_name' : 'Dominykas Borsak',\n",
    "        'client_email': 'borsak.jurate@gmail.com',\n",
    "        'charge': 17\n",
    "    },\n",
    "    'Rusnė 9kl. (p)': {\n",
    "        'client_name' : 'Rusnė Kupliauskaitė',\n",
    "        'client_email': 'r.kupliauskas@gmail.com',\n",
    "        'charge': 17\n",
    "    },\n",
    "    'Akvilė 11kl. (p)': {\n",
    "        'client_name' : 'Akvilė Pažemeckaitė',\n",
    "        'client_email': 'meljolaa@gmail.com',\n",
    "        'charge': 17\n",
    "    },\n",
    "    'Gabija 12kl. (p)': {\n",
    "        'client_name' : 'Gabija Rutkauskaitė',\n",
    "        'client_email': 'gabyte2004@gmail.com',\n",
    "        'charge': 17\n",
    "    },\n",
    "    \n",
    "}"
   ]
  },
  {
   "cell_type": "code",
   "execution_count": null,
   "id": "9f0b0af3",
   "metadata": {},
   "outputs": [],
   "source": []
  }
 ],
 "metadata": {
  "kernelspec": {
   "display_name": "Python 3 (ipykernel)",
   "language": "python",
   "name": "python3"
  },
  "language_info": {
   "codemirror_mode": {
    "name": "ipython",
    "version": 3
   },
   "file_extension": ".py",
   "mimetype": "text/x-python",
   "name": "python",
   "nbconvert_exporter": "python",
   "pygments_lexer": "ipython3",
   "version": "3.9.12"
  }
 },
 "nbformat": 4,
 "nbformat_minor": 5
}
